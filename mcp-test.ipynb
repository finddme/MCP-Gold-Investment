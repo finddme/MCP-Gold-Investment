{
 "cells": [
  {
   "cell_type": "code",
   "execution_count": null,
   "id": "8c54f7ab",
   "metadata": {},
   "outputs": [],
   "source": [
    "# 아래 링크의 코드를 참고하였습니다.\n",
    "# https://github.com/teddynote-lab/langgraph-react-mcp-chat"
   ]
  },
  {
   "cell_type": "code",
   "execution_count": 67,
   "id": "d452212e-f45c-434f-acd4-0b37a2899c02",
   "metadata": {},
   "outputs": [
    {
     "data": {
      "text/plain": [
       "True"
      ]
     },
     "execution_count": 67,
     "metadata": {},
     "output_type": "execute_result"
    }
   ],
   "source": [
    "from dotenv import load_dotenv\n",
    "\n",
    "load_dotenv(override=True)"
   ]
  },
  {
   "cell_type": "code",
   "execution_count": 44,
   "id": "36de24b6-3515-40aa-aa13-20948cd3b77b",
   "metadata": {
    "scrolled": true
   },
   "outputs": [
    {
     "name": "stdout",
     "output_type": "stream",
     "text": [
      "[StructuredTool(name='get_current_gold_price', description='\\n현재 금 시세 정보를 조회\\n', args_schema={'properties': {}, 'title': 'get_current_gold_priceArguments', 'type': 'object'}, response_format='content_and_artifact', coroutine=<function convert_mcp_tool_to_langchain_tool.<locals>.call_tool at 0x7ff81a4618a0>), StructuredTool(name='get_gold_price_history', description='\\n과거 금 시세 정보를 일별로 조회\\n', args_schema={'properties': {'days': {'default': 30, 'title': 'Days', 'type': 'integer'}}, 'title': 'get_gold_price_historyArguments', 'type': 'object'}, response_format='content_and_artifact', coroutine=<function convert_mcp_tool_to_langchain_tool.<locals>.call_tool at 0x7ff81a43cc20>)]\n",
      "\n",
      "==================================================\n",
      "🔄 Node: \u001b[1;36magent\u001b[0m 🔄\n",
      "- - - - - - - - - - - - - - - - - - - - - - - - - \n",
      "현재 금 구매가를 확인해 드리겠습니다.\n",
      "==================================================\n",
      "🔄 Node: \u001b[1;36mtools\u001b[0m 🔄\n",
      "- - - - - - - - - - - - - - - - - - - - - - - - - \n",
      "{\n",
      "  \"timestamp\": \"2025-05-11 23:56:18\",\n",
      "  \"price_krw\": 150532.0,\n",
      "  \"price_don\": 564492.0,\n",
      "  \"price_international\": 3318.6,\n",
      "  \"exchange_rate\": 1410.85,\n",
      "  \"change_direction\": \"down\",\n",
      "  \"change_amount\": 0,\n",
      "  \"change_percent\": 0,\n",
      "  \"unit\": \"원/g\",\n",
      "  \"source\": \"한국금거래소\",\n",
      "  \"status\": \"success\"\n",
      "}\n",
      "==================================================\n",
      "🔄 Node: \u001b[1;36magent\u001b[0m 🔄\n",
      "- - - - - - - - - - - - - - - - - - - - - - - - - \n",
      "현재 금 구매가 정보는 다음과 같습니다:\n",
      "\n",
      "- 금 가격: 150,532원/g\n",
      "- 돈 당 가격: 564,492원/돈\n",
      "- 국제 금 가격: 3,318.6달러\n",
      "- 환율: 1,410.85원\n",
      "- 변동 방향: 하락\n",
      "- 조회 시간: 2025년 5월 11일 23시 56분 18초\n",
      "- 정보 출처: 한국금거래소\n",
      "\n",
      "오늘 금 구매를 고려하고 계신가요? 추가로 필요한 정보가 있으시면 말씀해 주세요."
     ]
    }
   ],
   "source": [
    "from langchain_mcp_adapters.client import MultiServerMCPClient\n",
    "from langgraph.prebuilt import create_react_agent\n",
    "from utils import ainvoke_graph, astream_graph\n",
    "from langchain_anthropic import ChatAnthropic\n",
    "\n",
    "model = ChatAnthropic(\n",
    "    model_name=\"claude-3-7-sonnet-latest\", temperature=0, max_tokens=20000,\n",
    ")\n",
    "\n",
    "async with MultiServerMCPClient(\n",
    "    {\n",
    "        \"gold_price\": {\n",
    "            \"url\": \"http://192.168.0.186:8001/sse\",\n",
    "            \"transport\": \"sse\",\n",
    "        }\n",
    "    }\n",
    ") as client:\n",
    "    print(client.get_tools())\n",
    "    agent = create_react_agent(model, client.get_tools())\n",
    "    answer = await astream_graph(agent, {\"messages\": \"오늘 금 구매가는?\"})"
   ]
  },
  {
   "attachments": {},
   "cell_type": "markdown",
   "id": "5788eaff-a587-42f6-a936-624a197f9bfc",
   "metadata": {},
   "source": [
    "# Async Session 유지 Example"
   ]
  },
  {
   "cell_type": "code",
   "execution_count": 19,
   "id": "b53139c8-07de-41dc-8e9d-fe18eab99cce",
   "metadata": {},
   "outputs": [
    {
     "name": "stdout",
     "output_type": "stream",
     "text": [
      "[StructuredTool(name='get_current_gold_price', description='\\n현재 금 시세 정보를 조회\\n', args_schema={'properties': {}, 'title': 'get_current_gold_priceArguments', 'type': 'object'}, response_format='content_and_artifact', coroutine=<function convert_mcp_tool_to_langchain_tool.<locals>.call_tool at 0x7ff828398cc0>), StructuredTool(name='get_gold_price_history', description='\\n과거 금 시세 정보를 일별로 조회합니다.\\n\\nArgs:\\n    days (int, optional): 조회할 일수. 기본값은 30일.\\n\\nReturns:\\n    Dict[str, Any]: 일별 금 시세 정보를 담은 딕셔너리\\n', args_schema={'properties': {'days': {'default': 30, 'title': 'Days', 'type': 'integer'}}, 'title': 'get_gold_price_historyArguments', 'type': 'object'}, response_format='content_and_artifact', coroutine=<function convert_mcp_tool_to_langchain_tool.<locals>.call_tool at 0x7ff828398540>)]\n"
     ]
    },
    {
     "name": "stderr",
     "output_type": "stream",
     "text": [
      "Error in sse_reader: peer closed connection without sending complete message body (incomplete chunked read)\n"
     ]
    }
   ],
   "source": [
    "client = MultiServerMCPClient(\n",
    "    {\n",
    "        \"gold_price\": {\n",
    "            \"url\": \"http://192.168.0.186:8001/sse\",\n",
    "            \"transport\": \"sse\",\n",
    "        }\n",
    "    }\n",
    ")\n",
    "\n",
    "await client.__aenter__()\n",
    "\n",
    "print(client.get_tools())  "
   ]
  },
  {
   "cell_type": "code",
   "execution_count": 20,
   "id": "7aeae99c-3a44-470f-b873-8438df2f798c",
   "metadata": {},
   "outputs": [],
   "source": [
    "agent = create_react_agent(model, client.get_tools())"
   ]
  },
  {
   "cell_type": "code",
   "execution_count": 21,
   "id": "b6dda911-dfdf-44c3-ad91-0cde3a7c68b9",
   "metadata": {
    "scrolled": true
   },
   "outputs": [
    {
     "name": "stdout",
     "output_type": "stream",
     "text": [
      "\n",
      "==================================================\n",
      "🔄 Node: \u001b[1;36magent\u001b[0m 🔄\n",
      "- - - - - - - - - - - - - - - - - - - - - - - - - \n",
      "오늘 금값이 어떻게 변동했는지 확인해 드리겠습니다. 현재 금 시세와 최근 변동 추이를 조회해 보겠습니다.\n",
      "==================================================\n",
      "🔄 Node: \u001b[1;36mtools\u001b[0m 🔄\n",
      "- - - - - - - - - - - - - - - - - - - - - - - - - \n",
      "{\n",
      "  \"timestamp\": \"2025-05-11 18:30:39\",\n",
      "  \"price_krw\": 150532.0,\n",
      "  \"price_don\": 564492.0,\n",
      "  \"price_international\": 3318.6,\n",
      "  \"exchange_rate\": 1410.85,\n",
      "  \"change_direction\": \"down\",\n",
      "  \"change_amount\": 0,\n",
      "  \"change_percent\": 0,\n",
      "  \"unit\": \"원/g\",\n",
      "  \"source\": \"한국금거래소\",\n",
      "  \"status\": \"success\"\n",
      "}\n",
      "==================================================\n",
      "🔄 Node: \u001b[1;36magent\u001b[0m 🔄\n",
      "- - - - - - - - - - - - - - - - - - - - - - - - - \n",
      "어제와 비교하기 위해 최근 금값 변동 추이도 확인해 보겠습니다.\n",
      "==================================================\n",
      "🔄 Node: \u001b[1;36mtools\u001b[0m 🔄\n",
      "- - - - - - - - - - - - - - - - - - - - - - - - - \n",
      "{\n",
      "  \"history\": [\n",
      "    {\n",
      "      \"date\": \"2025-05-05\",\n",
      "      \"price_krw\": 150763.34,\n",
      "      \"unit\": \"원/g\"\n",
      "    },\n",
      "    {\n",
      "      \"date\": \"2025-05-06\",\n",
      "      \"price_krw\": 152740.69,\n",
      "      \"unit\": \"원/g\"\n",
      "    },\n",
      "    {\n",
      "      \"date\": \"2025-05-07\",\n",
      "      \"price_krw\": 149079.58,\n",
      "      \"unit\": \"원/g\"\n",
      "    },\n",
      "    {\n",
      "      \"date\": \"2025-05-08\",\n",
      "      \"price_krw\": 150857.18,\n",
      "      \"unit\": \"원/g\"\n",
      "    },\n",
      "    {\n",
      "      \"date\": \"2025-05-09\",\n",
      "      \"price_krw\": 151714.61,\n",
      "      \"unit\": \"원/g\"\n",
      "    },\n",
      "    {\n",
      "      \"date\": \"2025-05-10\",\n",
      "      \"price_krw\": 149837.89,\n",
      "      \"unit\": \"원/g\"\n",
      "    },\n",
      "    {\n",
      "      \"date\": \"2025-05-11\",\n",
      "      \"price_krw\": 150532.0,\n",
      "      \"unit\": \"원/g\"\n",
      "    }\n",
      "  ],\n",
      "  \"period\": \"7일\",\n",
      "  \"source\": \"한국금거래소\",\n",
      "  \"status\": \"success\",\n",
      "  \"timestamp\": \"2025-05-11 18:30:42\"\n",
      "}\n",
      "==================================================\n",
      "🔄 Node: \u001b[1;36magent\u001b[0m 🔄\n",
      "- - - - - - - - - - - - - - - - - - - - - - - - - \n",
      "오늘(2025년 5월 11일) 금값은 그램당 150,532원으로, 어제(5월 10일)의 149,837.89원보다 약 694.11원 상승했습니다. 즉, 오늘 금값은 어제보다 약 0.46% 올랐습니다.\n",
      "\n",
      "최근 일주일 동안의 변동을 보면 금값이 등락을 반복하고 있으며, 오늘은 어제보다 소폭 상승한 것을 확인할 수 있습니다."
     ]
    },
    {
     "data": {
      "text/plain": [
       "{'node': 'agent',\n",
       " 'content': AIMessageChunk(content='', additional_kwargs={}, response_metadata={'stop_reason': 'end_turn', 'stop_sequence': None}, id='run--a22b7939-8501-42d9-bd0d-8032714b1637', usage_metadata={'input_tokens': 0, 'output_tokens': 170, 'total_tokens': 170}),\n",
       " 'metadata': {'langgraph_step': 5,\n",
       "  'langgraph_node': 'agent',\n",
       "  'langgraph_triggers': ('branch:to:agent',),\n",
       "  'langgraph_path': ('__pregel_pull', 'agent'),\n",
       "  'langgraph_checkpoint_ns': 'agent:f7644cc0-39c6-3ccf-8761-a4d9e3f6c927',\n",
       "  'checkpoint_ns': 'agent:f7644cc0-39c6-3ccf-8761-a4d9e3f6c927',\n",
       "  'ls_provider': 'anthropic',\n",
       "  'ls_model_name': 'claude-3-7-sonnet-latest',\n",
       "  'ls_model_type': 'chat',\n",
       "  'ls_temperature': 0.0,\n",
       "  'ls_max_tokens': 20000}}"
      ]
     },
     "execution_count": 21,
     "metadata": {},
     "output_type": "execute_result"
    }
   ],
   "source": [
    "await astream_graph(agent, {\"messages\": \"오늘 금값 좀 올랐어?\"})"
   ]
  },
  {
   "cell_type": "code",
   "execution_count": null,
   "id": "ca7bf9da-595b-424a-8448-34fae4e406c6",
   "metadata": {},
   "outputs": [],
   "source": []
  },
  {
   "cell_type": "code",
   "execution_count": null,
   "id": "95c2ebb4-ab83-4654-b1a6-304186fef2a9",
   "metadata": {},
   "outputs": [],
   "source": []
  },
  {
   "cell_type": "code",
   "execution_count": null,
   "id": "bc5bf9ec-08ad-4dc0-8ab7-af6295ae5196",
   "metadata": {},
   "outputs": [],
   "source": []
  },
  {
   "cell_type": "code",
   "execution_count": null,
   "id": "d11eab5d-8a38-4f99-ae60-cc7f8e66edcd",
   "metadata": {},
   "outputs": [],
   "source": []
  },
  {
   "cell_type": "code",
   "execution_count": 53,
   "id": "e6432ad5-6712-4406-908e-88f27d230dad",
   "metadata": {},
   "outputs": [],
   "source": [
    "from langgraph.checkpoint.memory import MemorySaver\n",
    "from langchain_core.runnables import RunnableConfig\n",
    "\n",
    "prompt = (\n",
    "    \"You are a smart agent. \"\n",
    "    \"Use `gold_price` to search for information related to gold prices and answer the question.\"\n",
    "    \"Use `ledger` tool to view, add, update, or delete transaction records, and respond to the request.\"\n",
    "    \"Use `profit_clac` tool to calculate the profit and loss of gold investment and provide a summary or organize the information when requested by the user.\"\n",
    "    \"Answer in Korean.\"\n",
    ")\n",
    "agent = create_react_agent(\n",
    "    model, client.get_tools(), prompt=prompt, checkpointer=MemorySaver(),\n",
    ")"
   ]
  },
  {
   "cell_type": "code",
   "execution_count": 54,
   "id": "c6c4da61-7432-4eb8-9ec1-21a632bb394b",
   "metadata": {
    "scrolled": true
   },
   "outputs": [
    {
     "name": "stdout",
     "output_type": "stream",
     "text": [
      "\n",
      "==================================================\n",
      "🔄 Node: \u001b[1;36magent\u001b[0m 🔄\n",
      "- - - - - - - - - - - - - - - - - - - - - - - - - \n",
      "금 투자 현황을 확인해 드리겠습니다. 현재 포트폴리오 요약 정보와 거래 내역을 조회해 보겠습니다.\n",
      "==================================================\n",
      "🔄 Node: \u001b[1;36mtools\u001b[0m 🔄\n",
      "- - - - - - - - - - - - - - - - - - - - - - - - - \n",
      "{\n",
      "  \"timestamp\": \"2025-05-12 00:07:40\",\n",
      "  \"holding_amount\": 3.0,\n",
      "  \"avg_price\": 480666.67,\n",
      "  \"current_price\": 100000.0,\n",
      "  \"unrealized_profit\": -1142000.0,\n",
      "  \"realized_profit\": 0.0,\n",
      "  \"total_profit\": -1142000.0,\n",
      "  \"profit_rate\": -79.2,\n",
      "  \"total_investment\": 1442000.0,\n",
      "  \"current_value\": 300000.0,\n",
      "  \"status\": \"success\"\n",
      "}\n",
      "==================================================\n",
      "🔄 Node: \u001b[1;36magent\u001b[0m 🔄\n",
      "- - - - - - - - - - - - - - - - - - - - - - - - - \n",
      "\n",
      "==================================================\n",
      "🔄 Node: \u001b[1;36mtools\u001b[0m 🔄\n",
      "- - - - - - - - - - - - - - - - - - - - - - - - - \n",
      "{\n",
      "  \"status\": \"success\",\n",
      "  \"count\": 3,\n",
      "  \"transactions\": [\n",
      "    {\n",
      "      \"id\": 2,\n",
      "      \"date\": \"2025-05-03\",\n",
      "      \"transaction_type\": \"buy\",\n",
      "      \"amount\": 1.0,\n",
      "      \"price\": 562000.0,\n",
      "      \"total_price\": 562000.0,\n",
      "      \"note\": \"2025년 5월 3일 금 1돈 구매\",\n",
      "      \"timestamp\": \"2025-05-11 22:08:04\"\n",
      "    },\n",
      "    {\n",
      "      \"id\": 1,\n",
      "      \"date\": \"2025-04-05\",\n",
      "      \"transaction_type\": \"buy\",\n",
      "      \"amount\": 1.0,\n",
      "      \"price\": 560000.0,\n",
      "      \"total_price\": 560000.0,\n",
      "      \"note\": \"2025년 4월 5일 금 1돈 구매\",\n",
      "      \"timestamp\": \"2025-05-11 22:08:01\"\n",
      "    },\n",
      "    {\n",
      "      \"id\": 3,\n",
      "      \"date\": \"2023-01-01\",\n",
      "      \"transaction_type\": \"buy\",\n",
      "      \"amount\": 1.0,\n",
      "      \"price\": 320000.0,\n",
      "      \"total_price\": 320000.0,\n",
      "      \"note\": \"금 1돈 구매\",\n",
      "      \"timestamp\": \"2025-05-11 23:59:08\"\n",
      "    }\n",
      "  ]\n",
      "}\n",
      "==================================================\n",
      "🔄 Node: \u001b[1;36magent\u001b[0m 🔄\n",
      "- - - - - - - - - - - - - - - - - - - - - - - - - \n",
      "\n",
      "==================================================\n",
      "🔄 Node: \u001b[1;36mtools\u001b[0m 🔄\n",
      "- - - - - - - - - - - - - - - - - - - - - - - - - \n",
      "{\n",
      "  \"timestamp\": \"2025-05-12 00:07:48\",\n",
      "  \"price_krw\": 150532.0,\n",
      "  \"price_don\": 564492.0,\n",
      "  \"price_international\": 3318.6,\n",
      "  \"exchange_rate\": 1410.85,\n",
      "  \"change_direction\": \"down\",\n",
      "  \"change_amount\": 0,\n",
      "  \"change_percent\": 0,\n",
      "  \"unit\": \"원/g\",\n",
      "  \"source\": \"한국금거래소\",\n",
      "  \"status\": \"success\"\n",
      "}\n",
      "==================================================\n",
      "🔄 Node: \u001b[1;36magent\u001b[0m 🔄\n",
      "- - - - - - - - - - - - - - - - - - - - - - - - - \n",
      "## 금 투자 현황 요약\n",
      "\n",
      "현재 귀하의 금 투자 현황은 다음과 같습니다:\n",
      "\n",
      "### 포트폴리오 요약\n",
      "- **보유 수량**: 3.0돈\n",
      "- **평균 매입가**: 480,667원/돈\n",
      "- **총 투자금액**: 1,442,000원\n",
      "- **현재 가치**: 300,000원\n",
      "- **현재 시세**: 564,492원/돈 (한국금거래소 기준)\n",
      "\n",
      "### 수익률 분석\n",
      "- **미실현 손익**: -1,142,000원\n",
      "- **실현 손익**: 0원 (매도 거래 없음)\n",
      "- **총 손익**: -1,142,000원\n",
      "- **수익률**: -79.2%\n",
      "\n",
      "### 거래 내역\n",
      "1. **2023년 1월 1일**: 금 1돈 구매 (320,000원)\n",
      "2. **2025년 4월 5일**: 금 1돈 구매 (560,000원)\n",
      "3. **2025년 5월 3일**: 금 1돈 구매 (562,000원)\n",
      "\n",
      "현재 시세(564,492원/돈)와 시스템에 기록된 현재 가치(300,000원) 사이에 차이가 있는 것으로 보입니다. 실제 현재 시세를 기준으로 하면 보유 자산의 가치는 약 1,693,476원(3돈 × 564,492원)으로 예상됩니다.\n",
      "\n",
      "추가 정보나 특정 거래에 대한 상세 분석이 필요하시면 말씀해 주세요."
     ]
    },
    {
     "data": {
      "text/plain": [
       "{'node': 'agent',\n",
       " 'content': AIMessageChunk(content='', additional_kwargs={}, response_metadata={'stop_reason': 'end_turn', 'stop_sequence': None}, id='run--416ab63f-4ec9-4054-85df-be8e5801eb76', usage_metadata={'input_tokens': 0, 'output_tokens': 480, 'total_tokens': 480}),\n",
       " 'metadata': {'thread_id': 1,\n",
       "  'langgraph_step': 7,\n",
       "  'langgraph_node': 'agent',\n",
       "  'langgraph_triggers': ('branch:to:agent',),\n",
       "  'langgraph_path': ('__pregel_pull', 'agent'),\n",
       "  'langgraph_checkpoint_ns': 'agent:af346a05-63af-312b-d333-e166113cda34',\n",
       "  'checkpoint_ns': 'agent:af346a05-63af-312b-d333-e166113cda34',\n",
       "  'ls_provider': 'anthropic',\n",
       "  'ls_model_name': 'claude-3-7-sonnet-latest',\n",
       "  'ls_model_type': 'chat',\n",
       "  'ls_temperature': 0.0,\n",
       "  'ls_max_tokens': 20000}}"
      ]
     },
     "execution_count": 54,
     "metadata": {},
     "output_type": "execute_result"
    }
   ],
   "source": [
    "from utils import ainvoke_graph, astream_graph\n",
    "config = RunnableConfig(recursion_limit=30, thread_id=1)\n",
    "await astream_graph(\n",
    "    agent,\n",
    "    {\n",
    "        \"messages\": \"내 금 투자 현황을 알려줘\"\n",
    "    },\n",
    "    config=config,\n",
    ")"
   ]
  },
  {
   "cell_type": "code",
   "execution_count": null,
   "id": "bca479e9-1526-4b07-a0b4-193aaaf0a98c",
   "metadata": {},
   "outputs": [],
   "source": []
  },
  {
   "cell_type": "code",
   "execution_count": null,
   "id": "61c2e11e-1bb9-43ee-8f1f-2ac770ac7e3a",
   "metadata": {},
   "outputs": [],
   "source": []
  },
  {
   "cell_type": "code",
   "execution_count": null,
   "id": "b3b8d06b-6bb9-4db2-a3e9-de2a2b352329",
   "metadata": {},
   "outputs": [],
   "source": []
  },
  {
   "cell_type": "code",
   "execution_count": null,
   "id": "19e92764-0854-4491-a548-521013708e43",
   "metadata": {},
   "outputs": [],
   "source": []
  },
  {
   "cell_type": "code",
   "execution_count": null,
   "id": "2eb27193-ded7-4873-bfca-70c62e06f1e3",
   "metadata": {},
   "outputs": [],
   "source": []
  },
  {
   "cell_type": "code",
   "execution_count": null,
   "id": "a1f1559a-4680-4cf0-96fb-4fb9a6036018",
   "metadata": {},
   "outputs": [],
   "source": []
  },
  {
   "cell_type": "code",
   "execution_count": null,
   "id": "e4ac3d6f-6ab9-45d0-9ece-c222c38fb6ca",
   "metadata": {},
   "outputs": [],
   "source": []
  },
  {
   "cell_type": "code",
   "execution_count": null,
   "id": "586153c4-a8ef-4cd8-b0cc-45697718cbe1",
   "metadata": {},
   "outputs": [],
   "source": []
  }
 ],
 "metadata": {
  "kernelspec": {
   "display_name": "Python 3 (ipykernel)",
   "language": "python",
   "name": "python3"
  },
  "language_info": {
   "codemirror_mode": {
    "name": "ipython",
    "version": 3
   },
   "file_extension": ".py",
   "mimetype": "text/x-python",
   "name": "python",
   "nbconvert_exporter": "python",
   "pygments_lexer": "ipython3",
   "version": "3.13.3"
  }
 },
 "nbformat": 4,
 "nbformat_minor": 5
}
